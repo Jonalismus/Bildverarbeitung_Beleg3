{
 "cells": [
  {
   "cell_type": "code",
   "execution_count": 138,
   "outputs": [
    {
     "name": "stdout",
     "output_type": "stream",
     "text": [
      "Die Rechendauer betrug:  17.283375024795532 Sekunden\n"
     ]
    }
   ],
   "source": [
    "import cv2\n",
    "import glob\n",
    "import time\n",
    "import numpy as np\n",
    "\n",
    "start_time = time.time()\n",
    "\n",
    "# Bilder aus dem Ordner laden\n",
    "images = glob.glob('images/*.jpeg')\n",
    "\n",
    "# Erstes Bild als Ausgangspunkt für das Panorama verwenden\n",
    "panorama = cv2.imread(images[0])\n",
    "\n",
    "# SIFT-Objekt erstellen\n",
    "sift = cv2.SIFT_create()\n",
    "\n",
    "# Loop durch alle Bilder\n",
    "for image in images[1:]:\n",
    "    # Bild laden\n",
    "    current_image = cv2.imread(image)\n",
    "\n",
    "    # SIFT-Keypoints und -Descriptors für beide Bilder finden\n",
    "    kp1, des1 = sift.detectAndCompute(panorama, None)\n",
    "    kp2, des2 = sift.detectAndCompute(current_image, None)\n",
    "\n",
    "    # Keypoints mit FLANN matchen\n",
    "    FLANN_INDEX_KDTREE = 1\n",
    "    index_params = dict(algorithm = FLANN_INDEX_KDTREE, trees = 5)\n",
    "    search_params = dict(checks = 50)\n",
    "    flann = cv2.FlannBasedMatcher(index_params, search_params)\n",
    "    matches = flann.knnMatch(des1, des2, k=2)\n",
    "\n",
    "    # Gültige Matches auswählen\n",
    "    good_matches = []\n",
    "    for m, n in matches:\n",
    "        if m.distance < 0.4*n.distance:\n",
    "            good_matches.append(m)\n",
    "\n",
    "    # Keypoints der gültigen Matches bestimmen\n",
    "    if len(good_matches) > 9:\n",
    "        panorama_points = np.float32([kp1[m.queryIdx].pt for m in good_matches]).reshape(-1, 1, 2)\n",
    "        current_image_points = np.float32([kp2[m.trainIdx].pt for m in good_matches]).reshape(-1, 1, 2)\n",
    "\n",
    "        # Homographie-Matrix bestimmen\n",
    "        H, mask = cv2.findHomography(current_image_points, panorama_points, cv2.RANSAC, 5.0)\n",
    "\n",
    "\n",
    "\n",
    "\n",
    "        # Neue Größe des Panoramas bestimmen\n",
    "        panorama_width = panorama.shape[1] + 500\n",
    "        panorama_height = max(panorama.shape[0], current_image.shape[0])\n",
    "\n",
    "        # Neues Panorama erstellen\n",
    "        result = cv2.warpPerspective(current_image, H, (panorama_width, panorama_height))\n",
    "        result[0:panorama.shape[0], 0:panorama.shape[1]] = panorama\n",
    "\n",
    "        panorama = result\n",
    "\n",
    "\n",
    "# Panorama speichern\n",
    "cv2.imwrite('panorama.jpeg', panorama)\n",
    "\n",
    "end_time = time.time()\n",
    "total_time = end_time - start_time\n",
    "print(\"Die Rechendauer betrug: \", total_time, \"Sekunden\")"
   ],
   "metadata": {
    "collapsed": false
   }
  },
  {
   "cell_type": "code",
   "execution_count": 125,
   "outputs": [
    {
     "ename": "ValueError",
     "evalue": "The truth value of an array with more than one element is ambiguous. Use a.any() or a.all()",
     "output_type": "error",
     "traceback": [
      "\u001B[1;31m---------------------------------------------------------------------------\u001B[0m",
      "\u001B[1;31mValueError\u001B[0m                                Traceback (most recent call last)",
      "Cell \u001B[1;32mIn[125], line 52\u001B[0m\n\u001B[0;32m     50\u001B[0m \u001B[38;5;66;03m# Bereich finden, in dem sich die meisten Koordinaten befinden\u001B[39;00m\n\u001B[0;32m     51\u001B[0m coordinates_set \u001B[38;5;241m=\u001B[39m [\u001B[38;5;28mset\u001B[39m([coordinate[\u001B[38;5;241m0\u001B[39m]]) \u001B[38;5;28;01mfor\u001B[39;00m coordinate \u001B[38;5;129;01min\u001B[39;00m coordinates]\n\u001B[1;32m---> 52\u001B[0m overlap \u001B[38;5;241m=\u001B[39m \u001B[38;5;28;43mmax\u001B[39;49m\u001B[43m(\u001B[49m\u001B[43mcoordinates_set\u001B[49m\u001B[43m,\u001B[49m\u001B[43m \u001B[49m\u001B[43mkey\u001B[49m\u001B[38;5;241;43m=\u001B[39;49m\u001B[38;5;28;43;01mlambda\u001B[39;49;00m\u001B[43m \u001B[49m\u001B[43mx\u001B[49m\u001B[43m:\u001B[49m\u001B[43m \u001B[49m\u001B[43mcoordinates\u001B[49m\u001B[38;5;241;43m.\u001B[39;49m\u001B[43mcount\u001B[49m\u001B[43m(\u001B[49m\u001B[43mx\u001B[49m\u001B[43m)\u001B[49m\u001B[43m)\u001B[49m\n\u001B[0;32m     53\u001B[0m overlap \u001B[38;5;241m=\u001B[39m \u001B[38;5;28mint\u001B[39m(\u001B[38;5;28mlist\u001B[39m(overlap)[\u001B[38;5;241m0\u001B[39m])\n\u001B[0;32m     57\u001B[0m  \u001B[38;5;66;03m# Homographie-Matrix bestimmen\u001B[39;00m\n",
      "Cell \u001B[1;32mIn[125], line 52\u001B[0m, in \u001B[0;36m<lambda>\u001B[1;34m(x)\u001B[0m\n\u001B[0;32m     50\u001B[0m \u001B[38;5;66;03m# Bereich finden, in dem sich die meisten Koordinaten befinden\u001B[39;00m\n\u001B[0;32m     51\u001B[0m coordinates_set \u001B[38;5;241m=\u001B[39m [\u001B[38;5;28mset\u001B[39m([coordinate[\u001B[38;5;241m0\u001B[39m]]) \u001B[38;5;28;01mfor\u001B[39;00m coordinate \u001B[38;5;129;01min\u001B[39;00m coordinates]\n\u001B[1;32m---> 52\u001B[0m overlap \u001B[38;5;241m=\u001B[39m \u001B[38;5;28mmax\u001B[39m(coordinates_set, key\u001B[38;5;241m=\u001B[39m\u001B[38;5;28;01mlambda\u001B[39;00m x: \u001B[43mcoordinates\u001B[49m\u001B[38;5;241;43m.\u001B[39;49m\u001B[43mcount\u001B[49m\u001B[43m(\u001B[49m\u001B[43mx\u001B[49m\u001B[43m)\u001B[49m)\n\u001B[0;32m     53\u001B[0m overlap \u001B[38;5;241m=\u001B[39m \u001B[38;5;28mint\u001B[39m(\u001B[38;5;28mlist\u001B[39m(overlap)[\u001B[38;5;241m0\u001B[39m])\n\u001B[0;32m     57\u001B[0m  \u001B[38;5;66;03m# Homographie-Matrix bestimmen\u001B[39;00m\n",
      "\u001B[1;31mValueError\u001B[0m: The truth value of an array with more than one element is ambiguous. Use a.any() or a.all()"
     ]
    }
   ],
   "source": [],
   "metadata": {
    "collapsed": false
   }
  }
 ],
 "metadata": {
  "kernelspec": {
   "display_name": "Python 3",
   "language": "python",
   "name": "python3"
  },
  "language_info": {
   "codemirror_mode": {
    "name": "ipython",
    "version": 2
   },
   "file_extension": ".py",
   "mimetype": "text/x-python",
   "name": "python",
   "nbconvert_exporter": "python",
   "pygments_lexer": "ipython2",
   "version": "2.7.6"
  }
 },
 "nbformat": 4,
 "nbformat_minor": 0
}
